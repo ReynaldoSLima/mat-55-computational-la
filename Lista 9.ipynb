{
 "cells": [
  {
   "cell_type": "markdown",
   "metadata": {},
   "source": [
    "---------------\n",
    "Reynaldo Lima\n",
    "Lista 9 - Questão 1\n",
    "---------------------------"
   ]
  },
  {
   "cell_type": "code",
   "execution_count": 123,
   "metadata": {},
   "outputs": [],
   "source": [
    "import numpy as np\n",
    "\n",
    "def Jacobi_cinco_iteracoes(A, b, n, x):\n",
    "    #Parâmetros de entrada:\n",
    "    #n: dimensão da matriz (poderia usar len(A))\n",
    "    #A e b: matrizes do sistema linear\n",
    "    #v: chute inicial\n",
    "    for k in range(0, 5):\n",
    "        v = x\n",
    "        for i in range(0, n):\n",
    "            s = 0\n",
    "            for j in range(0, n):\n",
    "                if j != i:\n",
    "                    s = s + A[i, j]*v[j]\n",
    "            x[i] = (b[i]-s)*(1/A[i,i])\n",
    "    print(x, '\\n')\n",
    "\n",
    "def Jacobi_erro(A, b, n, x, erro):\n",
    "    #Parâmetros de entrada:\n",
    "    #n: dimensão da matriz (poderia usar len(A))\n",
    "    #A e b: matrizes do sistema linear\n",
    "    #v: chute inicial\n",
    "    k = 0\n",
    "    while np.linalg.norm(b - A@x, 2) > erro:\n",
    "        v = x\n",
    "        k = k+1\n",
    "        for i in range(0, n):\n",
    "            s = 0\n",
    "            for j in range(0, n):\n",
    "                if j != i:\n",
    "                    s = s + A[i, j]*v[j]\n",
    "            x[i] = (b[i]-s)/A[i,i]\n",
    "    print(x, '\\n\\n',k, 'iterações\\n')\n",
    "    \n",
    "def Gauss_Seidel_iteracoes(A, b, n, x):\n",
    "    #Parâmetros de entrada:\n",
    "    #n: dimensão da matriz (poderia usar len(A))\n",
    "    #A e b: matrizes do sistema linear\n",
    "    #v: chute inicial\n",
    "    v = np.zeros((3, 1))\n",
    "    for k in range(0, 5):\n",
    "        v = x\n",
    "        for i in range(0, n):\n",
    "            s = 0\n",
    "            for j in range(0, i):\n",
    "                s = s + A[i, j]*x[j]\n",
    "            for j in range(i+1, n):\n",
    "                s = s + A[i, j]*v[j]\n",
    "            x[i] = (b[i]-s)*(1/A[i,i])\n",
    "    print(x, '\\n')\n",
    "    \n",
    "    \n",
    "def GS_erro(A, b, n, x, erro):\n",
    "    #Parâmetros de entrada:\n",
    "    #n: dimensão da matriz (poderia usar len(A))\n",
    "    #A e b: matrizes do sistema linear\n",
    "    #v: chute inicial\n",
    "    k = 0\n",
    "    while np.linalg.norm(b - A@x, 2) > erro:\n",
    "        v = x\n",
    "        k = k+1\n",
    "        for i in range(0, n):\n",
    "            s = 0\n",
    "            for j in range(0, i):\n",
    "                s = s + A[i, j]*x[j]\n",
    "            for j in range(i+1, n):\n",
    "                s = s + A[i, j]*v[j]\n",
    "            x[i] = (b[i]-s)*(1/A[i,i])\n",
    "    print(x, '\\n\\n',k, 'iterações\\n')"
   ]
  },
  {
   "cell_type": "markdown",
   "metadata": {},
   "source": [
    "Questão 1:"
   ]
  },
  {
   "cell_type": "code",
   "execution_count": 132,
   "metadata": {},
   "outputs": [
    {
     "name": "stdout",
     "output_type": "stream",
     "text": [
      "---------------------------------\n",
      "Jacobi com 5 iterações\n",
      "\n",
      "[[0.99971759]\n",
      " [1.99986516]\n",
      " [3.00013908]] \n",
      "\n",
      "---------------------------------\n",
      "Jacobi com erro de 1e-5\n",
      "\n",
      "[[1.00000085]\n",
      " [1.99999983]\n",
      " [2.99999978]] \n",
      "\n",
      " 8 iterações\n",
      "\n",
      "---------------------------------\n",
      "Gauss-Seidel com 5 iterações\n",
      "\n",
      "[[0.99971759]\n",
      " [1.99986516]\n",
      " [3.00013908]] \n",
      "\n",
      "---------------------------------\n",
      "Gauss-Seidel com erro de 1e-5\n",
      "\n",
      "[[1.00000085]\n",
      " [1.99999983]\n",
      " [2.99999978]] \n",
      "\n",
      " 8 iterações\n",
      "\n"
     ]
    }
   ],
   "source": [
    "A = np.matrix([[5., 1, 1], [1., 4, 1], [1., 1, 3]])\n",
    "b = np.matrix([[10.], [12.], [12.]])\n",
    "x0 = np.matrix([[0.], [0.], [0.]])\n",
    "print('---------------------------------\\nJacobi com 5 iterações\\n')\n",
    "Jacobi_cinco_iteracoes(A, b, 3, x0)\n",
    "x0 = np.matrix([[0.], [0.], [0.]])\n",
    "print('---------------------------------\\nJacobi com erro de 1e-5\\n')\n",
    "Jacobi_erro(A, b, 3, x0, 10**(-5))\n",
    "x0 = np.matrix([[0.], [0.], [0.]])\n",
    "print('---------------------------------\\nGauss-Seidel com 5 iterações\\n')\n",
    "Gauss_Seidel_iteracoes(A, b, 3, x0)\n",
    "x0 = np.matrix([[0.], [0.], [0.]])\n",
    "print('---------------------------------\\nGauss-Seidel com erro de 1e-5\\n')\n",
    "GS_erro(A, b, 3, x0, 10**(-5))"
   ]
  },
  {
   "cell_type": "code",
   "execution_count": null,
   "metadata": {},
   "outputs": [],
   "source": []
  },
  {
   "cell_type": "code",
   "execution_count": null,
   "metadata": {},
   "outputs": [],
   "source": []
  }
 ],
 "metadata": {
  "kernelspec": {
   "display_name": "Python 3",
   "language": "python",
   "name": "python3"
  },
  "language_info": {
   "codemirror_mode": {
    "name": "ipython",
    "version": 3
   },
   "file_extension": ".py",
   "mimetype": "text/x-python",
   "name": "python",
   "nbconvert_exporter": "python",
   "pygments_lexer": "ipython3",
   "version": "3.7.3"
  }
 },
 "nbformat": 4,
 "nbformat_minor": 2
}
