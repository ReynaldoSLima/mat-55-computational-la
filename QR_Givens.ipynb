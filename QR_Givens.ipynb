{
 "cells": [
  {
   "cell_type": "raw",
   "metadata": {},
   "source": [
    "Code for QR factoration - Givens method\n",
    "Input: Matrix A\n",
    "       n, m - number of lines and columns, respectively\n",
    "       Matrix b\n",
    "       \n",
    "--------------------------------------------------------\n",
    "Reynaldo Santos de Lima"
   ]
  },
  {
   "cell_type": "code",
   "execution_count": 10,
   "metadata": {},
   "outputs": [],
   "source": [
    "import numpy as np\n",
    "\n",
    "def QR_Givens(A, m, n):\n",
    "\n",
    "    A = A.astype(float)\n",
    "    Q = np.identity(m)\n",
    "    \n",
    "    for j in range(0, n):\n",
    "        for i in range(m-1, j, -1):\n",
    "            #Calculating the rotational matrix\n",
    "            if A[i, j] == 0:\n",
    "                c = 1\n",
    "                s = 0\n",
    "            else:\n",
    "                alfa = np.sqrt((A[i-1, j])**2+(A[i, j])**2)\n",
    "                c = A[i-1, j]/alfa\n",
    "                s = -A[i, j]/alfa\n",
    "                        \n",
    "            theta = np.matrix([[c, -s], [s, c]])\n",
    "            #Now that we have the theta matrix, we must update A and Q:\n",
    "            \n",
    "            if abs(s) < abs(c):\n",
    "                A[i-1:i+1, j:n+1] = np.sign(c)*theta@A[i-1:i+1, j:n+1]\n",
    "                Q[i-1:i+1, :] = np.sign(c)*theta@Q[i-1:i+1, :]\n",
    "            else:\n",
    "                A[i-1:i+1, j:n+1] = np.sign(s)*theta@A[i-1:i+1, j:n+1]\n",
    "                Q[i-1:i+1, :] = np.sign(s)*theta@Q[i-1:i+1, :]\n",
    "    Q = np.transpose(Q)\n",
    "    return A[0:n, 0:n], Q[0:m, 0:n]\n",
    "            "
   ]
  },
  {
   "cell_type": "code",
   "execution_count": 11,
   "metadata": {},
   "outputs": [
    {
     "name": "stdout",
     "output_type": "stream",
     "text": [
      "[[ 0.01697035]\n",
      " [-0.34083601]\n",
      " [ 0.14022865]]\n"
     ]
    }
   ],
   "source": [
    "A = np.matrix([[1., 5, 5], [2, 3, 7], [0, -1, 6], [0, 7, 9]])\n",
    "b = np.matrix([[1.], [-1], [2], [-2]])\n",
    "m = 4\n",
    "n = 3\n",
    "R, Q = QR_Givens(A,m,n)\n",
    "x = np.linalg.inv(R)@np.transpose(Q)@b\n",
    "print(x)"
   ]
  }
 ],
 "metadata": {
  "kernelspec": {
   "display_name": "Python 3",
   "language": "python",
   "name": "python3"
  },
  "language_info": {
   "codemirror_mode": {
    "name": "ipython",
    "version": 3
   },
   "file_extension": ".py",
   "mimetype": "text/x-python",
   "name": "python",
   "nbconvert_exporter": "python",
   "pygments_lexer": "ipython3",
   "version": "3.7.3"
  }
 },
 "nbformat": 4,
 "nbformat_minor": 2
}
